{
 "cells": [
  {
   "cell_type": "code",
   "execution_count": 1,
   "id": "e72bbd63",
   "metadata": {},
   "outputs": [
    {
     "data": {
      "text/plain": [
       "array([[ 0.05008322, -0.55973608, -0.31797199,  0.16900556],\n",
       "       [-0.01880684, -0.69748068,  0.0137143 ,  2.40989895],\n",
       "       [ 0.49841545, -0.65376447,  0.03264572, -0.68804114],\n",
       "       [-0.97588242,  1.30541694, -1.33882049,  0.51304166],\n",
       "       [-1.75998177, -0.49197534,  0.50531257, -1.80077315],\n",
       "       [-0.12617988, -2.37072483, -1.20836652,  1.16397702]])"
      ]
     },
     "execution_count": 1,
     "metadata": {},
     "output_type": "execute_result"
    }
   ],
   "source": [
    "import numpy as np\n",
    "import pandas as pd\n",
    "\n",
    "df = pd.DataFrame(np.random.randn(6, 4), index=pd.date_range('20220101', periods=6), columns=['A', 'B', 'C', 'D'])\n",
    "\"\"\"columns属性\"\"\"\n",
    "df.values"
   ]
  },
  {
   "cell_type": "code",
   "execution_count": null,
   "id": "c37751fa",
   "metadata": {},
   "outputs": [],
   "source": []
  }
 ],
 "metadata": {
  "kernelspec": {
   "display_name": "Python 3",
   "language": "python",
   "name": "python3"
  },
  "language_info": {
   "codemirror_mode": {
    "name": "ipython",
    "version": 3
   },
   "file_extension": ".py",
   "mimetype": "text/x-python",
   "name": "python",
   "nbconvert_exporter": "python",
   "pygments_lexer": "ipython3",
   "version": "3.9.12"
  }
 },
 "nbformat": 4,
 "nbformat_minor": 5
}
