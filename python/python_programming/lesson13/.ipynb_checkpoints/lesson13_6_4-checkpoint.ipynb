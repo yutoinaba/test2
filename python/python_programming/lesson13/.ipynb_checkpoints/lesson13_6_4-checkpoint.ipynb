{
 "cells": [
  {
   "cell_type": "code",
   "execution_count": 2,
   "id": "7b91680b",
   "metadata": {},
   "outputs": [
    {
     "data": {
      "text/html": [
       "<div>\n",
       "<style scoped>\n",
       "    .dataframe tbody tr th:only-of-type {\n",
       "        vertical-align: middle;\n",
       "    }\n",
       "\n",
       "    .dataframe tbody tr th {\n",
       "        vertical-align: top;\n",
       "    }\n",
       "\n",
       "    .dataframe thead th {\n",
       "        text-align: right;\n",
       "    }\n",
       "</style>\n",
       "<table border=\"1\" class=\"dataframe\">\n",
       "  <thead>\n",
       "    <tr style=\"text-align: right;\">\n",
       "      <th></th>\n",
       "      <th>High</th>\n",
       "      <th>Low</th>\n",
       "      <th>Open</th>\n",
       "      <th>Close</th>\n",
       "      <th>Volume</th>\n",
       "      <th>Adj Close</th>\n",
       "      <th>changing</th>\n",
       "    </tr>\n",
       "    <tr>\n",
       "      <th>Date</th>\n",
       "      <th></th>\n",
       "      <th></th>\n",
       "      <th></th>\n",
       "      <th></th>\n",
       "      <th></th>\n",
       "      <th></th>\n",
       "      <th></th>\n",
       "    </tr>\n",
       "  </thead>\n",
       "  <tbody>\n",
       "    <tr>\n",
       "      <th>2022-06-02</th>\n",
       "      <td>151.27</td>\n",
       "      <td>146.86</td>\n",
       "      <td>147.83</td>\n",
       "      <td>151.21</td>\n",
       "      <td>72348100.0</td>\n",
       "      <td>151.21</td>\n",
       "      <td>2.29</td>\n",
       "    </tr>\n",
       "    <tr>\n",
       "      <th>2022-06-03</th>\n",
       "      <td>147.97</td>\n",
       "      <td>144.46</td>\n",
       "      <td>146.90</td>\n",
       "      <td>145.38</td>\n",
       "      <td>88471400.0</td>\n",
       "      <td>145.38</td>\n",
       "      <td>-1.03</td>\n",
       "    </tr>\n",
       "  </tbody>\n",
       "</table>\n",
       "</div>"
      ],
      "text/plain": [
       "              High     Low    Open   Close      Volume  Adj Close  changing\n",
       "Date                                                                       \n",
       "2022-06-02  151.27  146.86  147.83  151.21  72348100.0     151.21      2.29\n",
       "2022-06-03  147.97  144.46  146.90  145.38  88471400.0     145.38     -1.03"
      ]
     },
     "execution_count": 2,
     "metadata": {},
     "output_type": "execute_result"
    }
   ],
   "source": [
    "import datetime\n",
    "\n",
    "import matplotlib\n",
    "import matplotlib.pyplot as plt\n",
    "import numpy as np\n",
    "import pandas_datareader\n",
    "import sklearn\n",
    "import sklearn.linear_model\n",
    "import sklearn.model_selection\n",
    "\n",
    "df_aapl = pandas_datareader.data.DataReader('AAPL', 'yahoo', '2020-01-01')\n",
    "df_meta = pandas_datareader.data.DataReader('FB', 'yahoo', '2020-01-01')\n",
    "df_gold = pandas_datareader.data.DataReader('GLD', 'yahoo', '2020-01-01')\n",
    "\"\"\"株価の変化率を求める\"\"\"\n",
    "df_aapl['changing'] = (((df_aapl['Close'] - df_aapl['Open'])) / (df_aapl['Open']) * 100)\n",
    "df_meta['changing'] = (((df_meta['Close'] - df_meta['Open'])) / (df_meta['Open']) * 100)\n",
    "df_gold['changing'] = (((df_gold['Close'] - df_gold['Open'])) / (df_gold['Open']) * 100)\n",
    "df_aapl.tail(2).round(2)"
   ]
  },
  {
   "cell_type": "code",
   "execution_count": null,
   "id": "87ebe90c",
   "metadata": {},
   "outputs": [],
   "source": []
  }
 ],
 "metadata": {
  "kernelspec": {
   "display_name": "Python 3",
   "language": "python",
   "name": "python3"
  },
  "language_info": {
   "codemirror_mode": {
    "name": "ipython",
    "version": 3
   },
   "file_extension": ".py",
   "mimetype": "text/x-python",
   "name": "python",
   "nbconvert_exporter": "python",
   "pygments_lexer": "ipython3",
   "version": "3.9.12"
  }
 },
 "nbformat": 4,
 "nbformat_minor": 5
}
