{
 "cells": [
  {
   "cell_type": "code",
   "execution_count": 1,
   "id": "e4f4b6e3",
   "metadata": {},
   "outputs": [
    {
     "name": "stdout",
     "output_type": "stream",
     "text": [
      "10 1\n"
     ]
    }
   ],
   "source": [
    "\"\"\"配列の最大値、最小値を得る\"\"\"\n",
    "import numpy as np\n",
    "a = np.arange(1, 11)\n",
    "print(a.max(), a.min())"
   ]
  },
  {
   "cell_type": "code",
   "execution_count": null,
   "id": "61408f05",
   "metadata": {},
   "outputs": [],
   "source": []
  }
 ],
 "metadata": {
  "interpreter": {
   "hash": "b813d416c36fb0bd22d28e8500bf7131554964114722910e55b20ab4a08edb2e"
  },
  "kernelspec": {
   "display_name": "Python 3.9.7",
   "language": "python",
   "name": "python3"
  },
  "language_info": {
   "codemirror_mode": {
    "name": "ipython",
    "version": 3
   },
   "file_extension": ".py",
   "mimetype": "text/x-python",
   "name": "python",
   "nbconvert_exporter": "python",
   "pygments_lexer": "ipython3",
   "version": "3.9.7"
  }
 },
 "nbformat": 4,
 "nbformat_minor": 5
}
