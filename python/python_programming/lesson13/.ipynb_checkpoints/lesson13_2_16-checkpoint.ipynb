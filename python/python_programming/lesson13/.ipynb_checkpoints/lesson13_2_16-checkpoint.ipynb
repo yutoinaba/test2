{
 "cells": [
  {
   "cell_type": "code",
   "execution_count": null,
   "id": "286621c3",
   "metadata": {},
   "outputs": [],
   "source": [
    "import numpy as np\n",
    "\"\"\"3つの配列x、y、zを作る\"\"\"\n",
    "x = np.arange(0,10,2)\n",
    "y = np.arange(5)\n",
    "z = np.arange(0,100,20)\n",
    "print(x, y, z)"
   ]
  }
 ],
 "metadata": {
  "kernelspec": {
   "display_name": "Python 3",
   "language": "python",
   "name": "python3"
  },
  "language_info": {
   "codemirror_mode": {
    "name": "ipython",
    "version": 3
   },
   "file_extension": ".py",
   "mimetype": "text/x-python",
   "name": "python",
   "nbconvert_exporter": "python",
   "pygments_lexer": "ipython3",
   "version": "3.9.12"
  }
 },
 "nbformat": 4,
 "nbformat_minor": 5
}
