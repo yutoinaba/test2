{
 "cells": [
  {
   "cell_type": "code",
   "execution_count": 1,
   "id": "796d4fed",
   "metadata": {},
   "outputs": [
    {
     "data": {
      "text/html": [
       "<div>\n",
       "<style scoped>\n",
       "    .dataframe tbody tr th:only-of-type {\n",
       "        vertical-align: middle;\n",
       "    }\n",
       "\n",
       "    .dataframe tbody tr th {\n",
       "        vertical-align: top;\n",
       "    }\n",
       "\n",
       "    .dataframe thead th {\n",
       "        text-align: right;\n",
       "    }\n",
       "</style>\n",
       "<table border=\"1\" class=\"dataframe\">\n",
       "  <thead>\n",
       "    <tr style=\"text-align: right;\">\n",
       "      <th></th>\n",
       "      <th>A</th>\n",
       "      <th>B</th>\n",
       "      <th>C</th>\n",
       "      <th>D</th>\n",
       "      <th>E</th>\n",
       "    </tr>\n",
       "  </thead>\n",
       "  <tbody>\n",
       "    <tr>\n",
       "      <th>2022-01-01</th>\n",
       "      <td>-0.094152</td>\n",
       "      <td>2.411495</td>\n",
       "      <td>0.063400</td>\n",
       "      <td>-0.351873</td>\n",
       "      <td>one</td>\n",
       "    </tr>\n",
       "    <tr>\n",
       "      <th>2022-01-02</th>\n",
       "      <td>-0.822614</td>\n",
       "      <td>-1.254059</td>\n",
       "      <td>-1.012093</td>\n",
       "      <td>0.892679</td>\n",
       "      <td>one</td>\n",
       "    </tr>\n",
       "    <tr>\n",
       "      <th>2022-01-05</th>\n",
       "      <td>0.643923</td>\n",
       "      <td>-2.081679</td>\n",
       "      <td>-0.583174</td>\n",
       "      <td>-0.375567</td>\n",
       "      <td>four</td>\n",
       "    </tr>\n",
       "  </tbody>\n",
       "</table>\n",
       "</div>"
      ],
      "text/plain": [
       "                   A         B         C         D     E\n",
       "2022-01-01 -0.094152  2.411495  0.063400 -0.351873   one\n",
       "2022-01-02 -0.822614 -1.254059 -1.012093  0.892679   one\n",
       "2022-01-05  0.643923 -2.081679 -0.583174 -0.375567  four"
      ]
     },
     "execution_count": 1,
     "metadata": {},
     "output_type": "execute_result"
    }
   ],
   "source": [
    "import numpy as np\n",
    "import pandas as pd\n",
    "\n",
    "df = pd.DataFrame(np.random.randn(6, 4), index=pd.date_range('20220101', periods=6), columns=['A', 'B', 'C', 'D'])\n",
    "df2 = df.copy()\n",
    "df2['E'] = ['one',  'one', 'two', 'three', 'four', 'three']\n",
    "\"\"\"E列の値で行を抽出\"\"\"\n",
    "df2[df2['E'].isin(['one', 'four'])]"
   ]
  },
  {
   "cell_type": "code",
   "execution_count": null,
   "id": "b950a7b5",
   "metadata": {},
   "outputs": [],
   "source": []
  }
 ],
 "metadata": {
  "kernelspec": {
   "display_name": "Python 3",
   "language": "python",
   "name": "python3"
  },
  "language_info": {
   "codemirror_mode": {
    "name": "ipython",
    "version": 3
   },
   "file_extension": ".py",
   "mimetype": "text/x-python",
   "name": "python",
   "nbconvert_exporter": "python",
   "pygments_lexer": "ipython3",
   "version": "3.9.12"
  }
 },
 "nbformat": 4,
 "nbformat_minor": 5
}
