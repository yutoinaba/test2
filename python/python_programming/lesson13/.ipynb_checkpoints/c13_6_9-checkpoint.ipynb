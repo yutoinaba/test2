{
 "cells": [
  {
   "cell_type": "code",
   "execution_count": 1,
   "id": "6dc48576",
   "metadata": {},
   "outputs": [
    {
     "name": "stdout",
     "output_type": "stream",
     "text": [
      "[*********************100%***********************]  1 of 1 completed\n"
     ]
    },
    {
     "data": {
      "text/plain": [
       "0.7443885776870891"
      ]
     },
     "execution_count": 1,
     "metadata": {},
     "output_type": "execute_result"
    }
   ],
   "source": [
    "\"\"\"機械学習オブジェクトを作成して学習させる\"\"\"\n",
    "import datetime\n",
    "\n",
    "import matplotlib\n",
    "import matplotlib.pyplot as plt\n",
    "import numpy as np\n",
    "import pandas_datareader\n",
    "import sklearn\n",
    "import sklearn.linear_model\n",
    "import sklearn.model_selection\n",
    "import yfinance\n",
    "\n",
    "yfinance.pdr_override()\n",
    "\n",
    "df_aapl = pandas_datareader.data.get_data_yahoo('AAPL', '2020-01-01')\n",
    "\n",
    "df_aapl ['label'] = df_aapl['Close'].shift(-30)\n",
    "df_aapl['SMA'] = df_aapl['Close'].rolling(window=14).mean()\n",
    "df_aapl.tail(35)\n",
    "\n",
    "X = np.array(df_aapl.drop(['label', 'SMA'], axis='columns'))\n",
    "y = np.array(df_aapl['label'])\n",
    "\n",
    "y = y[:-30]\n",
    "X = X[:-30]\n",
    "X_train, X_test, y_train, y_test = sklearn.model_selection.train_test_split(\n",
    "    X, y, test_size=0.2)\n",
    "\n",
    "lr = sklearn.linear_model.LinearRegression()\n",
    "lr.fit(X_train, y_train)\n",
    "accuracy = lr.score(X_test, y_test)\n",
    "accuracy"
   ]
  },
  {
   "cell_type": "code",
   "execution_count": null,
   "id": "19c63fec",
   "metadata": {},
   "outputs": [],
   "source": []
  }
 ],
 "metadata": {
  "kernelspec": {
   "display_name": "Python 3 (ipykernel)",
   "language": "python",
   "name": "python3"
  },
  "language_info": {
   "codemirror_mode": {
    "name": "ipython",
    "version": 3
   },
   "file_extension": ".py",
   "mimetype": "text/x-python",
   "name": "python",
   "nbconvert_exporter": "python",
   "pygments_lexer": "ipython3",
   "version": "3.9.13"
  }
 },
 "nbformat": 4,
 "nbformat_minor": 5
}
