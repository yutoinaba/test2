{
 "cells": [
  {
   "cell_type": "code",
   "execution_count": 1,
   "id": "0282b124",
   "metadata": {},
   "outputs": [
    {
     "data": {
      "text/plain": [
       "0.40052152529495044"
      ]
     },
     "execution_count": 1,
     "metadata": {},
     "output_type": "execute_result"
    }
   ],
   "source": [
    "import sklearn.datasets\n",
    "import sklearn.linear_model\n",
    "import sklearn.model_selection\n",
    "import matplotlib.pyplot as plt\n",
    "import pandas as pd\n",
    "\n",
    "diabetes = sklearn.datasets.load_diabetes()\n",
    "\n",
    "\"\"\"変数Xとyにデータを格納\"\"\"\n",
    "X = diabetes.data\n",
    "y = diabetes.target\n",
    "\n",
    "\"\"\"データを訓練用とテスト用に分割\"\"\"\n",
    "X_train, X_test, y_train, y_test = sklearn.model_selection.train_test_split(X, y, test_size=0.2)\n",
    "\n",
    "\"\"\"線形回帰の機械学習を実行\"\"\"\n",
    "lr = sklearn.linear_model.LinearRegression()\n",
    "lr.fit(X_train, y_train)\n",
    "\n",
    "\"\"\"機械学習の結果を検証\"\"\"\n",
    "lr.score(X_test, y_test)"
   ]
  },
  {
   "cell_type": "code",
   "execution_count": null,
   "id": "c35f2c89",
   "metadata": {},
   "outputs": [],
   "source": []
  }
 ],
 "metadata": {
  "kernelspec": {
   "display_name": "Python 3",
   "language": "python",
   "name": "python3"
  },
  "language_info": {
   "codemirror_mode": {
    "name": "ipython",
    "version": 3
   },
   "file_extension": ".py",
   "mimetype": "text/x-python",
   "name": "python",
   "nbconvert_exporter": "python",
   "pygments_lexer": "ipython3",
   "version": "3.9.12"
  }
 },
 "nbformat": 4,
 "nbformat_minor": 5
}
