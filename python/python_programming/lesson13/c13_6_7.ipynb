{
 "cells": [
  {
   "cell_type": "code",
   "execution_count": 2,
   "id": "8fb02dda",
   "metadata": {},
   "outputs": [
    {
     "name": "stdout",
     "output_type": "stream",
     "text": [
      "[*********************100%***********************]  1 of 1 completed\n"
     ]
    },
    {
     "data": {
      "text/plain": [
       "array([[-1.85629054, -1.8604869 , -1.83000261, -1.8268695 , -1.82905257,\n",
       "         0.43281289],\n",
       "       [-1.84877835, -1.86065084, -1.81907897, -1.85099494, -1.8524951 ,\n",
       "         0.62742498],\n",
       "       [-1.87651545, -1.86572794, -1.85034898, -1.8314138 , -1.83346783,\n",
       "         0.12600412],\n",
       "       ...,\n",
       "       [ 0.16522451,  0.1988648 ,  0.1853704 ,  0.24799143,  0.27892979,\n",
       "        -0.56351327],\n",
       "       [ 0.25900261,  0.37247017,  0.30811536,  0.35506843,  0.38513469,\n",
       "        -0.53141836],\n",
       "       [ 0.33131759,  0.36722914,  0.3881669 ,  0.40199709,  0.43168115,\n",
       "        -0.81283443]])"
      ]
     },
     "execution_count": 2,
     "metadata": {},
     "output_type": "execute_result"
    }
   ],
   "source": [
    "\"\"\"学習させるデータをXに格納\"\"\"\n",
    "import datetime\n",
    "\n",
    "import matplotlib\n",
    "import matplotlib.pyplot as plt\n",
    "import numpy as np\n",
    "import pandas_datareader\n",
    "import sklearn\n",
    "import sklearn.linear_model\n",
    "import sklearn.model_selection\n",
    "import yfinance\n",
    "\n",
    "yfinance.pdr_override()\n",
    "\n",
    "df_aapl = pandas_datareader.data.get_data_yahoo('AAPL', '2020-01-01')\n",
    "\n",
    "df_aapl ['label'] = df_aapl['Close'].shift(-30)\n",
    "df_aapl['SMA'] = df_aapl['Close'].rolling(window=14).mean()\n",
    "df_aapl.tail(35)\n",
    "\n",
    "X = np.array(df_aapl.drop(['label', 'SMA'], axis='columns'))\n",
    "X = sklearn.preprocessing.scale(X)\n",
    "X"
   ]
  },
  {
   "cell_type": "code",
   "execution_count": null,
   "id": "1ff0a025",
   "metadata": {},
   "outputs": [],
   "source": []
  }
 ],
 "metadata": {
  "interpreter": {
   "hash": "b813d416c36fb0bd22d28e8500bf7131554964114722910e55b20ab4a08edb2e"
  },
  "kernelspec": {
   "display_name": "Python 3 (ipykernel)",
   "language": "python",
   "name": "python3"
  },
  "language_info": {
   "codemirror_mode": {
    "name": "ipython",
    "version": 3
   },
   "file_extension": ".py",
   "mimetype": "text/x-python",
   "name": "python",
   "nbconvert_exporter": "python",
   "pygments_lexer": "ipython3",
   "version": "3.9.13"
  }
 },
 "nbformat": 4,
 "nbformat_minor": 5
}
