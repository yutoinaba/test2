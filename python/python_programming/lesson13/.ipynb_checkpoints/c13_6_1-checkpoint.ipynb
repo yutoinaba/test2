{
 "cells": [
  {
   "cell_type": "code",
   "execution_count": 2,
   "id": "aa2229ee",
   "metadata": {},
   "outputs": [
    {
     "data": {
      "text/html": [
       "<div>\n",
       "<style scoped>\n",
       "    .dataframe tbody tr th:only-of-type {\n",
       "        vertical-align: middle;\n",
       "    }\n",
       "\n",
       "    .dataframe tbody tr th {\n",
       "        vertical-align: top;\n",
       "    }\n",
       "\n",
       "    .dataframe thead th {\n",
       "        text-align: right;\n",
       "    }\n",
       "</style>\n",
       "<table border=\"1\" class=\"dataframe\">\n",
       "  <thead>\n",
       "    <tr style=\"text-align: right;\">\n",
       "      <th></th>\n",
       "      <th>High</th>\n",
       "      <th>Low</th>\n",
       "      <th>Open</th>\n",
       "      <th>Close</th>\n",
       "      <th>Volume</th>\n",
       "      <th>Adj Close</th>\n",
       "    </tr>\n",
       "    <tr>\n",
       "      <th>Date</th>\n",
       "      <th></th>\n",
       "      <th></th>\n",
       "      <th></th>\n",
       "      <th></th>\n",
       "      <th></th>\n",
       "      <th></th>\n",
       "    </tr>\n",
       "  </thead>\n",
       "  <tbody>\n",
       "    <tr>\n",
       "      <th>2022-05-31</th>\n",
       "      <td>150.660004</td>\n",
       "      <td>146.839996</td>\n",
       "      <td>149.070007</td>\n",
       "      <td>148.839996</td>\n",
       "      <td>103718400.0</td>\n",
       "      <td>148.839996</td>\n",
       "    </tr>\n",
       "    <tr>\n",
       "      <th>2022-06-01</th>\n",
       "      <td>151.740005</td>\n",
       "      <td>147.679993</td>\n",
       "      <td>149.899994</td>\n",
       "      <td>148.710007</td>\n",
       "      <td>74286600.0</td>\n",
       "      <td>148.710007</td>\n",
       "    </tr>\n",
       "    <tr>\n",
       "      <th>2022-06-02</th>\n",
       "      <td>151.270004</td>\n",
       "      <td>146.860001</td>\n",
       "      <td>147.830002</td>\n",
       "      <td>151.210007</td>\n",
       "      <td>72232000.0</td>\n",
       "      <td>151.210007</td>\n",
       "    </tr>\n",
       "  </tbody>\n",
       "</table>\n",
       "</div>"
      ],
      "text/plain": [
       "                  High         Low        Open       Close       Volume  \\\n",
       "Date                                                                      \n",
       "2022-05-31  150.660004  146.839996  149.070007  148.839996  103718400.0   \n",
       "2022-06-01  151.740005  147.679993  149.899994  148.710007   74286600.0   \n",
       "2022-06-02  151.270004  146.860001  147.830002  151.210007   72232000.0   \n",
       "\n",
       "             Adj Close  \n",
       "Date                    \n",
       "2022-05-31  148.839996  \n",
       "2022-06-01  148.710007  \n",
       "2022-06-02  151.210007  "
      ]
     },
     "execution_count": 2,
     "metadata": {},
     "output_type": "execute_result"
    }
   ],
   "source": [
    "\"\"\"株価のデータを取得\"\"\"\n",
    "import datetime\n",
    "\n",
    "import matplotlib\n",
    "import matplotlib.pyplot as plt\n",
    "import numpy as np\n",
    "import pandas_datareader\n",
    "import sklearn\n",
    "import sklearn.linear_model\n",
    "import sklearn.model_selection\n",
    "\n",
    "df_aapl = pandas_datareader.data.DataReader('AAPL', 'yahoo', '2020-01-01')\n",
    "df_meta = pandas_datareader.data.DataReader('FB', 'yahoo', '2020-01-01')\n",
    "df_gold = pandas_datareader.data.DataReader('GLD', 'yahoo', '2020-01-01')\n",
    "df_aapl.tail(3)"
   ]
  },
  {
   "cell_type": "code",
   "execution_count": null,
   "id": "d442b42d",
   "metadata": {},
   "outputs": [],
   "source": []
  }
 ],
 "metadata": {
  "kernelspec": {
   "display_name": "Python 3",
   "language": "python",
   "name": "python3"
  },
  "language_info": {
   "codemirror_mode": {
    "name": "ipython",
    "version": 3
   },
   "file_extension": ".py",
   "mimetype": "text/x-python",
   "name": "python",
   "nbconvert_exporter": "python",
   "pygments_lexer": "ipython3",
   "version": "3.8.8"
  }
 },
 "nbformat": 4,
 "nbformat_minor": 5
}
