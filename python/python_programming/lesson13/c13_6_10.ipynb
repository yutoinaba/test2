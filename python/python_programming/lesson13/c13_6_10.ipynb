{
 "cells": [
  {
   "cell_type": "code",
   "execution_count": 1,
   "id": "d18082f3",
   "metadata": {},
   "outputs": [
    {
     "name": "stdout",
     "output_type": "stream",
     "text": [
      "[*********************100%***********************]  1 of 1 completed\n"
     ]
    },
    {
     "data": {
      "text/plain": [
       "array([145.89457466, 151.08429702, 151.46790487, 151.32164895,\n",
       "       150.04356983, 142.19276883, 136.85235097, 140.95639718,\n",
       "       141.6444782 , 140.10682579, 144.58289355, 148.66421737,\n",
       "       150.28318469, 150.7603316 , 150.10132241, 151.53651589,\n",
       "       151.30832094, 150.6963459 , 151.6180574 , 153.10018648,\n",
       "       151.49859625, 147.76045702, 144.28910999, 147.29541139,\n",
       "       149.20902314, 149.47644569, 151.41531689, 146.73907945,\n",
       "       144.9647762 , 145.7859464 ])"
      ]
     },
     "execution_count": 1,
     "metadata": {},
     "output_type": "execute_result"
    }
   ],
   "source": [
    "\"\"\"過去30日間から未来の30日間を予測\"\"\"\n",
    "import datetime\n",
    "\n",
    "import matplotlib\n",
    "import matplotlib.pyplot as plt\n",
    "import numpy as np\n",
    "import pandas_datareader\n",
    "import sklearn\n",
    "import sklearn.linear_model\n",
    "import sklearn.model_selection\n",
    "import yfinance\n",
    "\n",
    "yfinance.pdr_override()\n",
    "\n",
    "df_aapl = pandas_datareader.data.get_data_yahoo('AAPL', '2020-01-01')\n",
    "\n",
    "df_aapl ['label'] = df_aapl['Close'].shift(-30)\n",
    "df_aapl['SMA'] = df_aapl['Close'].rolling(window=14).mean()\n",
    "df_aapl.tail(35)\n",
    "\n",
    "X = np.array(df_aapl.drop(['label', 'SMA'], axis='columns'))\n",
    "y = np.array(df_aapl['label'])\n",
    "\n",
    "y = y[:-30]\n",
    "X = X[:-30]\n",
    "X_train, X_test, y_train, y_test = sklearn.model_selection.train_test_split(\n",
    "    X, y, test_size=0.2)\n",
    "\n",
    "lr = sklearn.linear_model.LinearRegression()\n",
    "lr.fit(X_train, y_train)\n",
    "\n",
    "predicted_data = lr.predict(X[-30:])\n",
    "predicted_data"
   ]
  },
  {
   "cell_type": "code",
   "execution_count": null,
   "id": "a6a57a37",
   "metadata": {},
   "outputs": [],
   "source": []
  }
 ],
 "metadata": {
  "kernelspec": {
   "display_name": "Python 3 (ipykernel)",
   "language": "python",
   "name": "python3"
  },
  "language_info": {
   "codemirror_mode": {
    "name": "ipython",
    "version": 3
   },
   "file_extension": ".py",
   "mimetype": "text/x-python",
   "name": "python",
   "nbconvert_exporter": "python",
   "pygments_lexer": "ipython3",
   "version": "3.9.13"
  }
 },
 "nbformat": 4,
 "nbformat_minor": 5
}
