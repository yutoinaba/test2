{
 "cells": [
  {
   "cell_type": "code",
   "execution_count": 1,
   "id": "7a0ebe54",
   "metadata": {},
   "outputs": [
    {
     "data": {
      "text/html": [
       "<div>\n",
       "<style scoped>\n",
       "    .dataframe tbody tr th:only-of-type {\n",
       "        vertical-align: middle;\n",
       "    }\n",
       "\n",
       "    .dataframe tbody tr th {\n",
       "        vertical-align: top;\n",
       "    }\n",
       "\n",
       "    .dataframe thead th {\n",
       "        text-align: right;\n",
       "    }\n",
       "</style>\n",
       "<table border=\"1\" class=\"dataframe\">\n",
       "  <thead>\n",
       "    <tr style=\"text-align: right;\">\n",
       "      <th></th>\n",
       "      <th>0</th>\n",
       "      <th>1</th>\n",
       "      <th>2</th>\n",
       "      <th>3</th>\n",
       "    </tr>\n",
       "  </thead>\n",
       "  <tbody>\n",
       "    <tr>\n",
       "      <th>2022-01-01</th>\n",
       "      <td>-1.672345</td>\n",
       "      <td>-0.754784</td>\n",
       "      <td>0.033675</td>\n",
       "      <td>1.665611</td>\n",
       "    </tr>\n",
       "    <tr>\n",
       "      <th>2022-01-02</th>\n",
       "      <td>1.004056</td>\n",
       "      <td>-0.683699</td>\n",
       "      <td>-0.594825</td>\n",
       "      <td>-0.301372</td>\n",
       "    </tr>\n",
       "    <tr>\n",
       "      <th>2022-01-03</th>\n",
       "      <td>-0.012896</td>\n",
       "      <td>-0.863621</td>\n",
       "      <td>1.852837</td>\n",
       "      <td>-1.168827</td>\n",
       "    </tr>\n",
       "    <tr>\n",
       "      <th>2022-01-04</th>\n",
       "      <td>-0.910269</td>\n",
       "      <td>-0.256505</td>\n",
       "      <td>-0.449434</td>\n",
       "      <td>-1.377675</td>\n",
       "    </tr>\n",
       "    <tr>\n",
       "      <th>2022-01-05</th>\n",
       "      <td>0.238284</td>\n",
       "      <td>1.783569</td>\n",
       "      <td>0.764727</td>\n",
       "      <td>-1.060644</td>\n",
       "    </tr>\n",
       "    <tr>\n",
       "      <th>2022-01-06</th>\n",
       "      <td>-1.051254</td>\n",
       "      <td>0.051841</td>\n",
       "      <td>-0.573673</td>\n",
       "      <td>0.755082</td>\n",
       "    </tr>\n",
       "  </tbody>\n",
       "</table>\n",
       "</div>"
      ],
      "text/plain": [
       "                   0         1         2         3\n",
       "2022-01-01 -1.672345 -0.754784  0.033675  1.665611\n",
       "2022-01-02  1.004056 -0.683699 -0.594825 -0.301372\n",
       "2022-01-03 -0.012896 -0.863621  1.852837 -1.168827\n",
       "2022-01-04 -0.910269 -0.256505 -0.449434 -1.377675\n",
       "2022-01-05  0.238284  1.783569  0.764727 -1.060644\n",
       "2022-01-06 -1.051254  0.051841 -0.573673  0.755082"
      ]
     },
     "execution_count": 1,
     "metadata": {},
     "output_type": "execute_result"
    }
   ],
   "source": [
    "\"\"\"DataFrameのindexに日付を指定\"\"\"\n",
    "import numpy as np\n",
    "import pandas as pd\n",
    "\n",
    "df = pd.DataFrame(np.random.randn(6, 4), index=pd.date_range('20220101', periods=6))\n",
    "df"
   ]
  },
  {
   "cell_type": "code",
   "execution_count": null,
   "id": "8f12a2ae",
   "metadata": {},
   "outputs": [],
   "source": []
  }
 ],
 "metadata": {
  "kernelspec": {
   "display_name": "Python 3",
   "language": "python",
   "name": "python3"
  },
  "language_info": {
   "codemirror_mode": {
    "name": "ipython",
    "version": 3
   },
   "file_extension": ".py",
   "mimetype": "text/x-python",
   "name": "python",
   "nbconvert_exporter": "python",
   "pygments_lexer": "ipython3",
   "version": "3.9.12"
  }
 },
 "nbformat": 4,
 "nbformat_minor": 5
}
