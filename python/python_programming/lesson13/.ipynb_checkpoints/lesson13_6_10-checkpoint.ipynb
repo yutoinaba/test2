{
 "cells": [
  {
   "cell_type": "code",
   "execution_count": 3,
   "id": "d18082f3",
   "metadata": {},
   "outputs": [
    {
     "data": {
      "text/plain": [
       "array([162.12087475, 160.99660474, 157.47538769, 161.2357374 ,\n",
       "       163.57448908, 164.78005643, 165.57319603, 167.38717431,\n",
       "       171.04728245, 172.16007394, 173.69624942, 173.92695885,\n",
       "       174.82682736, 175.96689531, 175.93437981, 173.77131942,\n",
       "       173.73621347, 177.68970744, 175.76836664, 172.19753988,\n",
       "       173.02920324, 170.95655846, 169.09428713, 169.97667703,\n",
       "       172.57783038, 170.54369832, 168.58799649, 170.21991065,\n",
       "       169.47956277, 170.70669693])"
      ]
     },
     "execution_count": 3,
     "metadata": {},
     "output_type": "execute_result"
    }
   ],
   "source": [
    "import datetime\n",
    "\n",
    "import matplotlib\n",
    "import matplotlib.pyplot as plt\n",
    "import numpy as np\n",
    "import pandas_datareader\n",
    "import sklearn\n",
    "import sklearn.linear_model\n",
    "import sklearn.model_selection\n",
    "\n",
    "df_aapl = pandas_datareader.data.DataReader('AAPL', 'yahoo', '2020-01-01')\n",
    "\n",
    "df_aapl ['label'] = df_aapl['Close'].shift(-30)\n",
    "df_aapl['SMA'] = df_aapl['Close'].rolling(window=14).mean()\n",
    "df_aapl.tail(35)\n",
    "\n",
    "X = np.array(df_aapl.drop(['label', 'SMA'], axis='columns'))\n",
    "y = np.array(df_aapl['label'])\n",
    "\n",
    "y = y[:-30]\n",
    "X = X[:-30]\n",
    "X_train, X_test, y_train, y_test = sklearn.model_selection.train_test_split(\n",
    "    X, y, test_size=0.2)\n",
    "\n",
    "lr = sklearn.linear_model.LinearRegression()\n",
    "lr.fit(X_train, y_train)\n",
    "\n",
    "\"\"\"過去30日間から未来の30日間を予測\"\"\"\n",
    "predicted_data = lr.predict(X[-30:])\n",
    "predicted_data"
   ]
  },
  {
   "cell_type": "code",
   "execution_count": null,
   "id": "a6a57a37",
   "metadata": {},
   "outputs": [],
   "source": []
  }
 ],
 "metadata": {
  "kernelspec": {
   "display_name": "Python 3",
   "language": "python",
   "name": "python3"
  },
  "language_info": {
   "codemirror_mode": {
    "name": "ipython",
    "version": 3
   },
   "file_extension": ".py",
   "mimetype": "text/x-python",
   "name": "python",
   "nbconvert_exporter": "python",
   "pygments_lexer": "ipython3",
   "version": "3.9.12"
  }
 },
 "nbformat": 4,
 "nbformat_minor": 5
}
