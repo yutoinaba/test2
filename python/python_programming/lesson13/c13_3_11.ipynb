{
 "cells": [
  {
   "cell_type": "code",
   "execution_count": 5,
   "id": "e72bbd63",
   "metadata": {},
   "outputs": [
    {
     "data": {
      "text/plain": [
       "array([[-1.4493736 ,  1.94253149,  0.54420619,  0.43236626],\n",
       "       [-1.63613319,  0.19197624,  0.10534745,  0.4487452 ],\n",
       "       [-1.18245165, -0.67482281,  1.37219083, -1.38855014],\n",
       "       [ 0.80569372, -0.61566242,  1.50219918, -0.45525597],\n",
       "       [ 0.82864023, -0.9377323 ,  2.08845685,  0.55141632],\n",
       "       [-0.55278099, -1.22086152,  0.99461458, -1.10501461]])"
      ]
     },
     "execution_count": 5,
     "metadata": {},
     "output_type": "execute_result"
    }
   ],
   "source": [
    "\"\"\"columns属性\"\"\"\n",
    "import numpy as np\n",
    "import pandas as pd\n",
    "\n",
    "df = pd.DataFrame(np.random.randn(6, 4), index=pd.date_range('20220101', periods=6), columns=['A', 'B', 'C', 'D'])\n",
    "df.values"
   ]
  },
  {
   "cell_type": "code",
   "execution_count": null,
   "id": "c37751fa",
   "metadata": {},
   "outputs": [],
   "source": []
  }
 ],
 "metadata": {
  "kernelspec": {
   "display_name": "Python 3 (ipykernel)",
   "language": "python",
   "name": "python3"
  },
  "language_info": {
   "codemirror_mode": {
    "name": "ipython",
    "version": 3
   },
   "file_extension": ".py",
   "mimetype": "text/x-python",
   "name": "python",
   "nbconvert_exporter": "python",
   "pygments_lexer": "ipython3",
   "version": "3.9.13"
  }
 },
 "nbformat": 4,
 "nbformat_minor": 5
}
