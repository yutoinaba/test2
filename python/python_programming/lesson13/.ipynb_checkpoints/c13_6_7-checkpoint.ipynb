{
 "cells": [
  {
   "cell_type": "code",
   "execution_count": 1,
   "id": "8fb02dda",
   "metadata": {},
   "outputs": [
    {
     "data": {
      "text/plain": [
       "array([[-1.67979531, -1.64395313, -1.67230516, -1.64795121, -0.30619473,\n",
       "        -1.64839194],\n",
       "       [-1.62615236, -1.59921311, -1.62302167, -1.59554645,  0.28308639,\n",
       "        -1.59731941],\n",
       "       [-1.62630755, -1.5888764 , -1.61591419, -1.6183856 ,  0.46734763,\n",
       "        -1.6195772 ],\n",
       "       ...,\n",
       "       [ 0.23584352,  0.22013118,  0.2142924 ,  0.18128486,  0.05751321,\n",
       "         0.20526089],\n",
       "       [ 0.19522386,  0.22139347,  0.2224155 ,  0.20881655, -0.57846881,\n",
       "         0.23256576],\n",
       "       [ 0.30219939,  0.24285625,  0.25865531,  0.2923511 , -0.4668421 ,\n",
       "         0.31541215]])"
      ]
     },
     "execution_count": 1,
     "metadata": {},
     "output_type": "execute_result"
    }
   ],
   "source": [
    "\"\"\"学習させるデータをXに格納\"\"\"\n",
    "import datetime\n",
    "\n",
    "import matplotlib\n",
    "import matplotlib.pyplot as plt\n",
    "import numpy as np\n",
    "import pandas_datareader\n",
    "import sklearn\n",
    "import sklearn.linear_model\n",
    "import sklearn.model_selection\n",
    "\n",
    "df_aapl = pandas_datareader.data.DataReader('AAPL', 'yahoo', '2020-01-01')\n",
    "\n",
    "df_aapl ['label'] = df_aapl['Close'].shift(-30)\n",
    "df_aapl['SMA'] = df_aapl['Close'].rolling(window=14).mean()\n",
    "df_aapl.tail(35)\n",
    "\n",
    "X = np.array(df_aapl.drop(['label', 'SMA'], axis='columns'))\n",
    "X = sklearn.preprocessing.scale(X)\n",
    "X"
   ]
  },
  {
   "cell_type": "code",
   "execution_count": null,
   "id": "1ff0a025",
   "metadata": {},
   "outputs": [],
   "source": []
  }
 ],
 "metadata": {
  "interpreter": {
   "hash": "b813d416c36fb0bd22d28e8500bf7131554964114722910e55b20ab4a08edb2e"
  },
  "kernelspec": {
   "display_name": "Python 3",
   "language": "python",
   "name": "python3"
  },
  "language_info": {
   "codemirror_mode": {
    "name": "ipython",
    "version": 3
   },
   "file_extension": ".py",
   "mimetype": "text/x-python",
   "name": "python",
   "nbconvert_exporter": "python",
   "pygments_lexer": "ipython3",
   "version": "3.8.8"
  }
 },
 "nbformat": 4,
 "nbformat_minor": 5
}
