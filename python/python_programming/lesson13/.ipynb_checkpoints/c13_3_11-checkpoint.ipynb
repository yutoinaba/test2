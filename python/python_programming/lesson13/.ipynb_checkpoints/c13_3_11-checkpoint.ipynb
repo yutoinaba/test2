{
 "cells": [
  {
   "cell_type": "code",
   "execution_count": 1,
   "id": "e72bbd63",
   "metadata": {},
   "outputs": [
    {
     "data": {
      "text/plain": [
       "array([[ 1.16262742e+00, -8.41231952e-01, -1.02328403e+00,\n",
       "        -3.23203568e-01],\n",
       "       [ 9.22218283e-01, -1.33686620e+00, -2.01120376e-01,\n",
       "        -6.12413128e-01],\n",
       "       [ 1.18161179e+00, -2.00008023e+00,  1.56355923e-03,\n",
       "         1.75105280e+00],\n",
       "       [-7.04659073e-01, -1.75730896e-01, -5.89260074e-02,\n",
       "        -1.50366817e+00],\n",
       "       [-5.08056420e-01, -6.98401746e-01, -2.55232458e-01,\n",
       "        -2.07782165e-01],\n",
       "       [ 1.15118024e+00,  5.88995442e-01,  1.16390906e+00,\n",
       "        -2.95046818e-01]])"
      ]
     },
     "execution_count": 1,
     "metadata": {},
     "output_type": "execute_result"
    }
   ],
   "source": [
    "\"\"\"columns属性\"\"\"\n",
    "import numpy as np\n",
    "import pandas as pd\n",
    "\n",
    "df = pd.DataFrame(np.random.randn(6, 4), index=pd.date_range('20220101', periods=6), columns=['A', 'B', 'C', 'D'])\n",
    "df.values"
   ]
  },
  {
   "cell_type": "code",
   "execution_count": null,
   "id": "c37751fa",
   "metadata": {},
   "outputs": [],
   "source": []
  }
 ],
 "metadata": {
  "kernelspec": {
   "display_name": "Python 3 (ipykernel)",
   "language": "python",
   "name": "python3"
  },
  "language_info": {
   "codemirror_mode": {
    "name": "ipython",
    "version": 3
   },
   "file_extension": ".py",
   "mimetype": "text/x-python",
   "name": "python",
   "nbconvert_exporter": "python",
   "pygments_lexer": "ipython3",
   "version": "3.9.13"
  }
 },
 "nbformat": 4,
 "nbformat_minor": 5
}
