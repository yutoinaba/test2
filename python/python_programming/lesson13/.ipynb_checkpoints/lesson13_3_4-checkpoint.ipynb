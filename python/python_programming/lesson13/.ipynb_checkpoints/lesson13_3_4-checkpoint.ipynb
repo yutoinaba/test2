{
 "cells": [
  {
   "cell_type": "code",
   "execution_count": 2,
   "id": "9582e552",
   "metadata": {},
   "outputs": [
    {
     "data": {
      "text/html": [
       "<div>\n",
       "<style scoped>\n",
       "    .dataframe tbody tr th:only-of-type {\n",
       "        vertical-align: middle;\n",
       "    }\n",
       "\n",
       "    .dataframe tbody tr th {\n",
       "        vertical-align: top;\n",
       "    }\n",
       "\n",
       "    .dataframe thead th {\n",
       "        text-align: right;\n",
       "    }\n",
       "</style>\n",
       "<table border=\"1\" class=\"dataframe\">\n",
       "  <thead>\n",
       "    <tr style=\"text-align: right;\">\n",
       "      <th></th>\n",
       "      <th>0</th>\n",
       "      <th>1</th>\n",
       "      <th>2</th>\n",
       "      <th>3</th>\n",
       "    </tr>\n",
       "  </thead>\n",
       "  <tbody>\n",
       "    <tr>\n",
       "      <th>0</th>\n",
       "      <td>0.215556</td>\n",
       "      <td>0.466304</td>\n",
       "      <td>0.892664</td>\n",
       "      <td>-0.696464</td>\n",
       "    </tr>\n",
       "    <tr>\n",
       "      <th>1</th>\n",
       "      <td>-0.879427</td>\n",
       "      <td>-0.743755</td>\n",
       "      <td>-1.124335</td>\n",
       "      <td>-0.485873</td>\n",
       "    </tr>\n",
       "    <tr>\n",
       "      <th>2</th>\n",
       "      <td>0.261433</td>\n",
       "      <td>0.256433</td>\n",
       "      <td>1.872438</td>\n",
       "      <td>-0.521721</td>\n",
       "    </tr>\n",
       "    <tr>\n",
       "      <th>3</th>\n",
       "      <td>-1.258935</td>\n",
       "      <td>0.710878</td>\n",
       "      <td>0.921548</td>\n",
       "      <td>1.106660</td>\n",
       "    </tr>\n",
       "    <tr>\n",
       "      <th>4</th>\n",
       "      <td>1.650061</td>\n",
       "      <td>2.180435</td>\n",
       "      <td>-0.115508</td>\n",
       "      <td>-0.552536</td>\n",
       "    </tr>\n",
       "    <tr>\n",
       "      <th>5</th>\n",
       "      <td>-0.281590</td>\n",
       "      <td>-0.161249</td>\n",
       "      <td>-0.107559</td>\n",
       "      <td>1.182990</td>\n",
       "    </tr>\n",
       "  </tbody>\n",
       "</table>\n",
       "</div>"
      ],
      "text/plain": [
       "          0         1         2         3\n",
       "0  0.215556  0.466304  0.892664 -0.696464\n",
       "1 -0.879427 -0.743755 -1.124335 -0.485873\n",
       "2  0.261433  0.256433  1.872438 -0.521721\n",
       "3 -1.258935  0.710878  0.921548  1.106660\n",
       "4  1.650061  2.180435 -0.115508 -0.552536\n",
       "5 -0.281590 -0.161249 -0.107559  1.182990"
      ]
     },
     "execution_count": 2,
     "metadata": {},
     "output_type": "execute_result"
    }
   ],
   "source": [
    "import numpy as np\n",
    "import pandas as pd\n",
    "\n",
    "\"\"\"ランダムな数値からなるDataFrame\"\"\"\n",
    "df = pd.DataFrame(np.random.randn(6, 4))\n",
    "df"
   ]
  },
  {
   "cell_type": "code",
   "execution_count": null,
   "id": "f00b4f92",
   "metadata": {},
   "outputs": [],
   "source": []
  }
 ],
 "metadata": {
  "kernelspec": {
   "display_name": "Python 3",
   "language": "python",
   "name": "python3"
  },
  "language_info": {
   "codemirror_mode": {
    "name": "ipython",
    "version": 3
   },
   "file_extension": ".py",
   "mimetype": "text/x-python",
   "name": "python",
   "nbconvert_exporter": "python",
   "pygments_lexer": "ipython3",
   "version": "3.9.12"
  }
 },
 "nbformat": 4,
 "nbformat_minor": 5
}
